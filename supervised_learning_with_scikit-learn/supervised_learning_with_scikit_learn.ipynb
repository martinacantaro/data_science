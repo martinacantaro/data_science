{
 "cells": [
  {
   "cell_type": "markdown",
   "metadata": {},
   "source": [
    "# Supervised Learning with Scikit-learn On The Iris Flower Dataset\n",
    "\n",
    "In this notebook, I will apply the concepts learned in DataCamp to the famous Iris Flower Dataset collected by botanist E. S. Anderson and popularized by statistician and biologist Ronald Fisher.\n",
    "\n",
    "Track: Machine Learning Scientist With Python\n",
    "\n",
    "Course: Supervised Learning With Scikit-learn"
   ]
  },
  {
   "cell_type": "code",
   "execution_count": 1,
   "metadata": {},
   "outputs": [
    {
     "data": {
      "text/plain": [
       "sklearn.utils.Bunch"
      ]
     },
     "execution_count": 1,
     "metadata": {},
     "output_type": "execute_result"
    }
   ],
   "source": [
    "from sklearn import datasets\n",
    "from sklearn.model_selection import train_test_split\n",
    "import pandas as pd\n",
    "import numpy as np\n",
    "import matplotlib.pyplot as plt\n",
    "plt.style.use('ggplot')\n",
    "iris = datasets.load_iris()\n",
    "type(iris)"
   ]
  },
  {
   "cell_type": "markdown",
   "metadata": {},
   "source": [
    "A Bunch is similar to a dictionary, in that it contains key-value pairs."
   ]
  },
  {
   "cell_type": "code",
   "execution_count": 2,
   "metadata": {},
   "outputs": [
    {
     "name": "stdout",
     "output_type": "stream",
     "text": [
      "dict_keys(['data', 'target', 'target_names', 'DESCR', 'feature_names', 'filename'])\n"
     ]
    }
   ],
   "source": [
    "print(iris.keys())"
   ]
  },
  {
   "cell_type": "markdown",
   "metadata": {},
   "source": [
    "- 'DESCR' = Description of the dataset\n",
    "- 'feature_names' = a list with only four elements, which serve as column names for the four columns in 'data': 'petal_width', 'petal_length', 'sepal_width', 'sepal_length'\n",
    "- 'data' = ndarray with 4 columns, containing the numeric values for each of the feature_names.\n",
    "- 'target_names' = an array of just three values. Index 0 is 'setosa', 1 is 'versicolor' and 2 is 'virginica'.\n",
    "- 'target' = contains values 0, 1 or 2, indicating the corresponding 'target_name'"
   ]
  },
  {
   "cell_type": "code",
   "execution_count": 3,
   "metadata": {},
   "outputs": [],
   "source": [
    "X = iris.data\n",
    "y = iris.target"
   ]
  },
  {
   "cell_type": "code",
   "execution_count": 4,
   "metadata": {},
   "outputs": [],
   "source": [
    "# Create train and test sets\n",
    "\n",
    "X_train, X_test, y_train, y_test = train_test_split(X, y, test_size=0.3, random_state=21, stratify=y)"
   ]
  },
  {
   "cell_type": "markdown",
   "metadata": {},
   "source": [
    "In order to implement K-Nearest Neighbors with scikit-learn, we need to take into account the following requirements:\n",
    "\n",
    "- Features must be continuous, not discrete.\n",
    "- There can't be missing values\n",
    "- Data has to be stored in numpy arrays or pandas dataframes"
   ]
  },
  {
   "cell_type": "markdown",
   "metadata": {},
   "source": [
    "# How to use scikit-learn to fit a classifier"
   ]
  },
  {
   "cell_type": "code",
   "execution_count": 6,
   "metadata": {
    "scrolled": true
   },
   "outputs": [
    {
     "name": "stdout",
     "output_type": "stream",
     "text": [
      "Prediction: 2\n",
      "Actual value: 2\n",
      "Prediction: 1\n",
      "Actual value: 2\n",
      "Prediction: 2\n",
      "Actual value: 2\n",
      "Prediction: 2\n",
      "Actual value: 2\n",
      "Prediction: 1\n",
      "Actual value: 1\n",
      "Prediction: 0\n",
      "Actual value: 0\n",
      "Prediction: 1\n",
      "Actual value: 1\n",
      "Prediction: 0\n",
      "Actual value: 0\n",
      "Prediction: 0\n",
      "Actual value: 0\n",
      "Prediction: 1\n",
      "Actual value: 1\n",
      "Prediction: 0\n",
      "Actual value: 0\n",
      "Prediction: 2\n",
      "Actual value: 2\n",
      "Prediction: 0\n",
      "Actual value: 0\n",
      "Prediction: 2\n",
      "Actual value: 1\n",
      "Prediction: 2\n",
      "Actual value: 2\n",
      "Prediction: 0\n",
      "Actual value: 0\n",
      "Prediction: 0\n",
      "Actual value: 0\n",
      "Prediction: 0\n",
      "Actual value: 0\n",
      "Prediction: 1\n",
      "Actual value: 1\n",
      "Prediction: 0\n",
      "Actual value: 0\n",
      "Prediction: 2\n",
      "Actual value: 2\n",
      "Prediction: 2\n",
      "Actual value: 2\n",
      "Prediction: 2\n",
      "Actual value: 2\n",
      "Prediction: 0\n",
      "Actual value: 0\n",
      "Prediction: 1\n",
      "Actual value: 1\n",
      "Prediction: 1\n",
      "Actual value: 1\n",
      "Prediction: 1\n",
      "Actual value: 1\n",
      "Prediction: 0\n",
      "Actual value: 0\n",
      "Prediction: 0\n",
      "Actual value: 0\n",
      "Prediction: 1\n",
      "Actual value: 1\n",
      "Prediction: 2\n",
      "Actual value: 2\n",
      "Prediction: 2\n",
      "Actual value: 2\n",
      "Prediction: 0\n",
      "Actual value: 0\n",
      "Prediction: 0\n",
      "Actual value: 0\n",
      "Prediction: 1\n",
      "Actual value: 1\n",
      "Prediction: 2\n",
      "Actual value: 2\n",
      "Prediction: 2\n",
      "Actual value: 2\n",
      "Prediction: 1\n",
      "Actual value: 1\n",
      "Prediction: 1\n",
      "Actual value: 1\n",
      "Prediction: 2\n",
      "Actual value: 2\n",
      "Prediction: 1\n",
      "Actual value: 1\n",
      "Prediction: 1\n",
      "Actual value: 1\n",
      "Prediction: 0\n",
      "Actual value: 0\n",
      "Prediction: 2\n",
      "Actual value: 2\n",
      "Prediction: 1\n",
      "Actual value: 1\n"
     ]
    }
   ],
   "source": [
    "from sklearn.neighbors import KNeighborsClassifier\n",
    "\n",
    "# we instantiate the classifier\n",
    "knn = KNeighborsClassifier(n_neighbors=6)\n",
    "\n",
    "# we fit the model to the data\n",
    "knn.fit(X_train, y_train)\n",
    "\n",
    "# and now we use our model to label the test data\n",
    "prediction = knn.predict(X_test)\n",
    "\n",
    "for i,j in zip(prediction, y_test):\n",
    "    print(\"Prediction: {}\".format(i))\n",
    "    print(\"Actual value: {}\".format(j))"
   ]
  },
  {
   "cell_type": "markdown",
   "metadata": {},
   "source": [
    "It worked pretty well! But, how well? How much can we trust our model?\n",
    "# How to measure model performance"
   ]
  },
  {
   "cell_type": "markdown",
   "metadata": {},
   "source": [
    "The accuracy of a model is defined as the fraction of correct predictions"
   ]
  },
  {
   "cell_type": "code",
   "execution_count": 7,
   "metadata": {},
   "outputs": [
    {
     "data": {
      "text/plain": [
       "0.9555555555555556"
      ]
     },
     "execution_count": 7,
     "metadata": {},
     "output_type": "execute_result"
    }
   ],
   "source": [
    "knn.score(X_test, y_test)"
   ]
  },
  {
   "cell_type": "markdown",
   "metadata": {},
   "source": [
    "Note: This is a work in progress"
   ]
  }
 ],
 "metadata": {
  "kernelspec": {
   "display_name": "Python 3",
   "language": "python",
   "name": "python3"
  },
  "language_info": {
   "codemirror_mode": {
    "name": "ipython",
    "version": 3
   },
   "file_extension": ".py",
   "mimetype": "text/x-python",
   "name": "python",
   "nbconvert_exporter": "python",
   "pygments_lexer": "ipython3",
   "version": "3.7.4"
  }
 },
 "nbformat": 4,
 "nbformat_minor": 2
}

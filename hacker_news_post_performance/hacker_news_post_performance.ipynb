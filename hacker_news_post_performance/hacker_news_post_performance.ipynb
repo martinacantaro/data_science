{
 "cells": [
  {
   "cell_type": "markdown",
   "metadata": {
    "collapsed": true
   },
   "source": [
    "# What type of posts performs best on Hacker News?\n",
    "\n",
    "We will analyze which type of Hacker News post performs best, in terms of amount of comments received.\n",
    "\n",
    "The analysis will be focused on two types of post: HN ask (in which the poster asks a question to the community) and HN show (in which the poster shares something with the community). We will explore if there is a difference in performance between both types of post, and how it is influenced by the time of posting.\n",
    "\n",
    "We will use this dataset, which is a random sample from this dataset and doesn't include posts with no comments.\n",
    "\n",
    "We read the file and transform it into a list of lists to start exploring it."
   ]
  },
  {
   "cell_type": "code",
   "execution_count": 35,
   "metadata": {
    "collapsed": false
   },
   "outputs": [
    {
     "name": "stdout",
     "output_type": "stream",
     "text": [
      "['id', 'title', 'url', 'num_points', 'num_comments', 'author', 'created_at']\n",
      "['12224879', 'Interactive Dynamic Video', 'http://www.interactivedynamicvideo.com/', '386', '52', 'ne0phyte', '8/4/2016 11:52']\n",
      "['10975351', 'How to Use Open Source and Shut the Fuck Up at the Same Time', 'http://hueniverse.com/2016/01/26/how-to-use-open-source-and-shut-the-fuck-up-at-the-same-time/', '39', '10', 'josep2', '1/26/2016 19:30']\n",
      "['11964716', \"Florida DJs May Face Felony for April Fools' Water Joke\", 'http://www.thewire.com/entertainment/2013/04/florida-djs-april-fools-water-joke/63798/', '2', '1', 'vezycash', '6/23/2016 22:20']\n",
      "['11919867', 'Technology ventures: From Idea to Enterprise', 'https://www.amazon.com/Technology-Ventures-Enterprise-Thomas-Byers/dp/0073523429', '3', '1', 'hswarna', '6/17/2016 0:01']\n"
     ]
    }
   ],
   "source": [
    "import csv\n",
    "import datetime\n",
    "opened_file = open('hacker_news.csv')\n",
    "read_file = csv.reader(opened_file)\n",
    "hn = list(read_file)\n",
    "\n",
    "for row in hn[:5]:\n",
    "    print(row)"
   ]
  },
  {
   "cell_type": "markdown",
   "metadata": {},
   "source": [
    "We separate the headers from the content."
   ]
  },
  {
   "cell_type": "code",
   "execution_count": 3,
   "metadata": {
    "collapsed": false
   },
   "outputs": [
    {
     "name": "stdout",
     "output_type": "stream",
     "text": [
      "['id', 'title', 'url', 'num_points', 'num_comments', 'author', 'created_at']\n",
      "[['12224879', 'Interactive Dynamic Video', 'http://www.interactivedynamicvideo.com/', '386', '52', 'ne0phyte', '8/4/2016 11:52'], ['10975351', 'How to Use Open Source and Shut the Fuck Up at the Same Time', 'http://hueniverse.com/2016/01/26/how-to-use-open-source-and-shut-the-fuck-up-at-the-same-time/', '39', '10', 'josep2', '1/26/2016 19:30'], ['11964716', \"Florida DJs May Face Felony for April Fools' Water Joke\", 'http://www.thewire.com/entertainment/2013/04/florida-djs-april-fools-water-joke/63798/', '2', '1', 'vezycash', '6/23/2016 22:20'], ['11919867', 'Technology ventures: From Idea to Enterprise', 'https://www.amazon.com/Technology-Ventures-Enterprise-Thomas-Byers/dp/0073523429', '3', '1', 'hswarna', '6/17/2016 0:01'], ['10301696', 'Note by Note: The Making of Steinway L1037 (2007)', 'http://www.nytimes.com/2007/11/07/movies/07stein.html?_r=0', '8', '2', 'walterbell', '9/30/2015 4:12']]\n"
     ]
    }
   ],
   "source": [
    "headers = hn[0]\n",
    "hn = hn[1:]\n",
    "\n",
    "print(headers)\n",
    "print(hn[:5])"
   ]
  },
  {
   "cell_type": "markdown",
   "metadata": {},
   "source": [
    "Since we're only interested in posts whose titles begin with Ask HN or Show HN, we create new lists of lists containing just the data for those titles."
   ]
  },
  {
   "cell_type": "code",
   "execution_count": 4,
   "metadata": {
    "collapsed": false
   },
   "outputs": [
    {
     "name": "stdout",
     "output_type": "stream",
     "text": [
      "1744\n",
      "1162\n",
      "17194\n"
     ]
    }
   ],
   "source": [
    "ask_posts = []\n",
    "show_posts = []\n",
    "other_posts = []\n",
    "\n",
    "for row in hn:\n",
    "    title = row[1]\n",
    "    title = title.lower()\n",
    "    if title.startswith('ask hn'):\n",
    "        ask_posts.append(row)\n",
    "    elif title.startswith('show hn'):\n",
    "        show_posts.append(row)\n",
    "    else:\n",
    "        other_posts.append(row)\n",
    "\n",
    "print(len(ask_posts))\n",
    "print(len(show_posts))\n",
    "print(len(other_posts))"
   ]
  },
  {
   "cell_type": "markdown",
   "metadata": {},
   "source": [
    "Now we find out the average number of comments for each type of post. We begin with Ask post comments"
   ]
  },
  {
   "cell_type": "code",
   "execution_count": 5,
   "metadata": {
    "collapsed": false
   },
   "outputs": [
    {
     "name": "stdout",
     "output_type": "stream",
     "text": [
      "14.038417431192661\n"
     ]
    }
   ],
   "source": [
    "total_ask_comments = 0\n",
    "for row in ask_posts:\n",
    "    num_comments = int(row[4])\n",
    "    total_ask_comments += num_comments\n",
    "\n",
    "avg_ask_comments = total_ask_comments / len(ask_posts)\n",
    "print(avg_ask_comments)\n"
   ]
  },
  {
   "cell_type": "markdown",
   "metadata": {},
   "source": [
    "And we do the same for Show post comments"
   ]
  },
  {
   "cell_type": "code",
   "execution_count": 6,
   "metadata": {
    "collapsed": false
   },
   "outputs": [
    {
     "name": "stdout",
     "output_type": "stream",
     "text": [
      "10.31669535283993\n"
     ]
    }
   ],
   "source": [
    "total_show_comments = 0\n",
    "for row in show_posts:\n",
    "    num_comments = int(row[4])\n",
    "    total_show_comments += num_comments\n",
    "\n",
    "avg_show_comments = total_show_comments / len(show_posts)\n",
    "print(avg_show_comments)"
   ]
  },
  {
   "cell_type": "markdown",
   "metadata": {},
   "source": [
    "We see that Ask comments receive, on average, 36% more comments.\n",
    "\n",
    "Now that we know that, we will analyze which time of day is optimal for posting a HN Ask type post. First we extract the datetime and post number columns for each Ask HN post."
   ]
  },
  {
   "cell_type": "code",
   "execution_count": 7,
   "metadata": {
    "collapsed": false
   },
   "outputs": [],
   "source": [
    "import datetime as dt\n",
    "\n",
    "ask_posts_date_comments = []\n",
    "\n",
    "for post in ask_posts:\n",
    "    post_date_comments = [post[6], int(post[4])]\n",
    "    ask_posts_date_comments.append(post_date_comments)"
   ]
  },
  {
   "cell_type": "markdown",
   "metadata": {},
   "source": [
    "Next, we count the number of posts and the number of comments by hour"
   ]
  },
  {
   "cell_type": "code",
   "execution_count": 18,
   "metadata": {
    "collapsed": false
   },
   "outputs": [
    {
     "name": "stdout",
     "output_type": "stream",
     "text": [
      "{'17': 100, '04': 47, '18': 109, '05': 46, '00': 55, '21': 109, '23': 68, '15': 116, '11': 58, '08': 48, '01': 60, '06': 44, '13': 85, '03': 54, '02': 58, '12': 73, '19': 110, '16': 108, '20': 80, '14': 107, '09': 45, '07': 34, '10': 59, '22': 71}\n",
      "{'17': 1146, '04': 337, '18': 1439, '05': 464, '00': 447, '21': 1745, '23': 543, '15': 4477, '11': 641, '08': 492, '01': 683, '06': 397, '13': 1253, '03': 421, '02': 1381, '12': 687, '19': 1188, '16': 1814, '20': 1722, '14': 1416, '09': 251, '07': 267, '10': 793, '22': 479}\n"
     ]
    }
   ],
   "source": [
    "counts_by_hour = {}\n",
    "comments_by_hour = {}\n",
    "\n",
    "for row in ask_posts_date_comments:\n",
    "    hour =  row[0]\n",
    "    hour = dt.datetime.strptime(hour, '%m/%d/%Y %H:%M')\n",
    "    hour_string = hour.strftime('%H')\n",
    "    if hour_string not in counts_by_hour:\n",
    "        counts_by_hour[hour_string] = 1\n",
    "        comments_by_hour[hour_string] = row[1]\n",
    "    else:\n",
    "        counts_by_hour[hour_string] += 1\n",
    "        comments_by_hour[hour_string] += row[1]\n",
    "\n",
    "print(counts_by_hour)\n",
    "print(comments_by_hour)"
   ]
  },
  {
   "cell_type": "markdown",
   "metadata": {
    "collapsed": true
   },
   "source": [
    "... and we calculate the average number of posts by hour."
   ]
  },
  {
   "cell_type": "code",
   "execution_count": 19,
   "metadata": {
    "collapsed": false
   },
   "outputs": [
    {
     "name": "stdout",
     "output_type": "stream",
     "text": [
      "[['17', 11.46], ['04', 7.170212765957447], ['18', 13.20183486238532], ['05', 10.08695652173913], ['00', 8.127272727272727], ['21', 16.009174311926607], ['23', 7.985294117647059], ['15', 38.5948275862069], ['11', 11.051724137931034], ['08', 10.25], ['01', 11.383333333333333], ['06', 9.022727272727273], ['13', 14.741176470588234], ['03', 7.796296296296297], ['02', 23.810344827586206], ['12', 9.41095890410959], ['19', 10.8], ['16', 16.796296296296298], ['20', 21.525], ['14', 13.233644859813085], ['09', 5.5777777777777775], ['07', 7.852941176470588], ['10', 13.440677966101696], ['22', 6.746478873239437]]\n"
     ]
    }
   ],
   "source": [
    "avg_posts_by_hour = []\n",
    "    \n",
    "for hour in counts_by_hour:\n",
    "    avg_posts_by_hour.append([hour, comments_by_hour[hour] / counts_by_hour[hour]])\n",
    "\n",
    "print(avg_posts_by_hour)"
   ]
  },
  {
   "cell_type": "markdown",
   "metadata": {},
   "source": [
    "Just by looking at the results we see there are differences, but we need to order the list to make them more clear. We will sort it by amount of comments."
   ]
  },
  {
   "cell_type": "code",
   "execution_count": 47,
   "metadata": {
    "collapsed": false,
    "scrolled": true
   },
   "outputs": [
    {
     "name": "stdout",
     "output_type": "stream",
     "text": [
      "[38.5948275862069, '15']\n",
      "[23.810344827586206, '02']\n",
      "[21.525, '20']\n",
      "[16.796296296296298, '16']\n",
      "[16.009174311926607, '21']\n",
      "[14.741176470588234, '13']\n",
      "[13.440677966101696, '10']\n",
      "[13.233644859813085, '14']\n",
      "[13.20183486238532, '18']\n",
      "[11.46, '17']\n",
      "[11.383333333333333, '01']\n",
      "[11.051724137931034, '11']\n",
      "[10.8, '19']\n",
      "[10.25, '08']\n",
      "[10.08695652173913, '05']\n",
      "[9.41095890410959, '12']\n",
      "[9.022727272727273, '06']\n",
      "[8.127272727272727, '00']\n",
      "[7.985294117647059, '23']\n",
      "[7.852941176470588, '07']\n",
      "[7.796296296296297, '03']\n",
      "[7.170212765957447, '04']\n",
      "[6.746478873239437, '22']\n",
      "[5.5777777777777775, '09']\n"
     ]
    }
   ],
   "source": [
    "swap_avg_posts_by_hour = []\n",
    "\n",
    "for post in avg_posts_by_hour:\n",
    "    swap_avg_posts_by_hour.append([post[1], post[0]])\n",
    "\n",
    "sorted_avg_by_hour = sorted(swap_avg_posts_by_hour, reverse = True)\n",
    "\n",
    "for avg in sorted_avg_by_hour:\n",
    "    print(avg)"
   ]
  },
  {
   "cell_type": "markdown",
   "metadata": {},
   "source": [
    "So, in conclusion, the best hours to post HN Ask posts, according to this dataset, are... *drumroll*"
   ]
  },
  {
   "cell_type": "code",
   "execution_count": 53,
   "metadata": {
    "collapsed": false
   },
   "outputs": [
    {
     "name": "stdout",
     "output_type": "stream",
     "text": [
      "Top 5 Hours for Ask HN comments\n",
      "15:00: 38.594828 average comments per post\n",
      "02:00: 23.810345 average comments per post\n",
      "20:00: 21.525000 average comments per post\n",
      "16:00: 16.796296 average comments per post\n",
      "21:00: 16.009174 average comments per post\n"
     ]
    }
   ],
   "source": [
    "print('Top 5 Hours for Ask HN comments')\n",
    "\n",
    "for item in sorted_avg_by_hour[:5]:\n",
    "    hour = dt.datetime.strptime(item[1], '%H')\n",
    "    hour = hour.strftime('%H:%M')\n",
    "    average_comments = item[0]\n",
    "    print('{hr}: {avg:2f} average comments per post'.format(hr = hour, avg = average_comments))\n",
    "    "
   ]
  },
  {
   "cell_type": "markdown",
   "metadata": {
    "collapsed": true
   },
   "source": [
    "Great! Now we know the peak times to post HN Ask comments if you want to get the most amount of replies.\n",
    "\n",
    "Note that these times are in the US Eastern Time zone, so if you want to take advantage of the best posting times you have to convert them to your own time zone.\n",
    "\n",
    "Further exploring:\n",
    "- It would be interesting to graph all the data and see whether there's a function that explains the variation.\n",
    "- In the top 5 results we see that mid-afternoon (15-16) hs and early in the night (20-21) hs are peak times, but it is peculiar to see 2 am as the second best time. One hypotheses that could explain this is that these posts are not coming from the US but from another timezone."
   ]
  }
 ],
 "metadata": {
  "kernelspec": {
   "display_name": "Python 3",
   "language": "python",
   "name": "python3"
  },
  "language_info": {
   "codemirror_mode": {
    "name": "ipython",
    "version": 3
   },
   "file_extension": ".py",
   "mimetype": "text/x-python",
   "name": "python",
   "nbconvert_exporter": "python",
   "pygments_lexer": "ipython3",
   "version": "3.4.3"
  }
 },
 "nbformat": 4,
 "nbformat_minor": 2
}

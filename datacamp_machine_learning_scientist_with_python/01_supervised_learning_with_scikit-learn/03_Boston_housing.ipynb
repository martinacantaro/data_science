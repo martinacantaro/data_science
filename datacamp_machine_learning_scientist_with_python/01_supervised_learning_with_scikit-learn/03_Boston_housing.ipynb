{
 "cells": [
  {
   "cell_type": "markdown",
   "metadata": {},
   "source": [
    "# Supervised Learning with Scikit-learn \n",
    "# Regression with the Boston housing dataset\n",
    "\n",
    "(Note: this is a work in progress, it's not finished yet)\n",
    "\n",
    "We're going to use a dataset of housing prices from the 1970s. In regression, the target variable is continuous.\n",
    "\n",
    "Track: Machine Learning Scientist With Python\n",
    "\n",
    "Course: Supervised Learning With Scikit-learn\n",
    "\n",
    "Chapter: Regression"
   ]
  },
  {
   "cell_type": "code",
   "execution_count": 1,
   "metadata": {},
   "outputs": [
    {
     "name": "stdout",
     "output_type": "stream",
     "text": [
      "dict_keys(['data', 'target', 'feature_names', 'DESCR', 'filename'])\n"
     ]
    }
   ],
   "source": [
    "from sklearn import datasets\n",
    "from sklearn.linear_model import LinearRegression\n",
    "from sklearn.model_selection import train_test_split\n",
    "import matplotlib.pyplot as plt\n",
    "import numpy as np\n",
    "\n",
    "boston = datasets.load_boston()\n",
    "\n",
    "print(boston.keys())"
   ]
  },
  {
   "cell_type": "code",
   "execution_count": 2,
   "metadata": {},
   "outputs": [
    {
     "name": "stdout",
     "output_type": "stream",
     "text": [
      ".. _boston_dataset:\n",
      "\n",
      "Boston house prices dataset\n",
      "---------------------------\n",
      "\n",
      "**Data Set Characteristics:**  \n",
      "\n",
      "    :Number of Instances: 506 \n",
      "\n",
      "    :Number of Attributes: 13 numeric/categorical predictive. Median Value (attribute 14) is usually the target.\n",
      "\n",
      "    :Attribute Information (in order):\n",
      "        - CRIM     per capita crime rate by town\n",
      "        - ZN       proportion of residential land zoned for lots over 25,000 sq.ft.\n",
      "        - INDUS    proportion of non-retail business acres per town\n",
      "        - CHAS     Charles River dummy variable (= 1 if tract bounds river; 0 otherwise)\n",
      "        - NOX      nitric oxides concentration (parts per 10 million)\n",
      "        - RM       average number of rooms per dwelling\n",
      "        - AGE      proportion of owner-occupied units built prior to 1940\n",
      "        - DIS      weighted distances to five Boston employment centres\n",
      "        - RAD      index of accessibility to radial highways\n",
      "        - TAX      full-value property-tax rate per $10,000\n",
      "        - PTRATIO  pupil-teacher ratio by town\n",
      "        - B        1000(Bk - 0.63)^2 where Bk is the proportion of blacks by town\n",
      "        - LSTAT    % lower status of the population\n",
      "        - MEDV     Median value of owner-occupied homes in $1000's\n",
      "\n",
      "    :Missing Attribute Values: None\n",
      "\n",
      "    :Creator: Harrison, D. and Rubinfeld, D.L.\n",
      "\n",
      "This is a copy of UCI ML housing dataset.\n",
      "https://archive.ics.uci.edu/ml/machine-learning-databases/housing/\n",
      "\n",
      "\n",
      "This dataset was taken from the StatLib library which is maintained at Carnegie Mellon University.\n",
      "\n",
      "The Boston house-price data of Harrison, D. and Rubinfeld, D.L. 'Hedonic\n",
      "prices and the demand for clean air', J. Environ. Economics & Management,\n",
      "vol.5, 81-102, 1978.   Used in Belsley, Kuh & Welsch, 'Regression diagnostics\n",
      "...', Wiley, 1980.   N.B. Various transformations are used in the table on\n",
      "pages 244-261 of the latter.\n",
      "\n",
      "The Boston house-price data has been used in many machine learning papers that address regression\n",
      "problems.   \n",
      "     \n",
      ".. topic:: References\n",
      "\n",
      "   - Belsley, Kuh & Welsch, 'Regression diagnostics: Identifying Influential Data and Sources of Collinearity', Wiley, 1980. 244-261.\n",
      "   - Quinlan,R. (1993). Combining Instance-Based and Model-Based Learning. In Proceedings on the Tenth International Conference of Machine Learning, 236-243, University of Massachusetts, Amherst. Morgan Kaufmann.\n",
      "\n"
     ]
    }
   ],
   "source": [
    "print(boston.DESCR)"
   ]
  },
  {
   "cell_type": "code",
   "execution_count": 3,
   "metadata": {},
   "outputs": [],
   "source": [
    "X = boston.data\n",
    "y = boston.target"
   ]
  },
  {
   "cell_type": "markdown",
   "metadata": {},
   "source": [
    "First, as an exercise, we will predict price using only one feature: the average number of rooms in a block."
   ]
  },
  {
   "cell_type": "code",
   "execution_count": 4,
   "metadata": {},
   "outputs": [
    {
     "data": {
      "text/plain": [
       "(numpy.ndarray, numpy.ndarray)"
      ]
     },
     "execution_count": 4,
     "metadata": {},
     "output_type": "execute_result"
    }
   ],
   "source": [
    "X_rooms = X[:,5]\n",
    "type(X_rooms), type(y)"
   ]
  },
  {
   "cell_type": "code",
   "execution_count": 5,
   "metadata": {},
   "outputs": [
    {
     "data": {
      "text/plain": [
       "((506,), (506,))"
      ]
     },
     "execution_count": 5,
     "metadata": {},
     "output_type": "execute_result"
    }
   ],
   "source": [
    "X_rooms.shape, y.shape"
   ]
  },
  {
   "cell_type": "markdown",
   "metadata": {},
   "source": [
    "Right now, the numpy arrays are one-dimensional. We need to convert them to 2D for scikit-learn to be able to use them. We passs the parameters -1 and 1. The -1 in the first position means \"unknown number of rows\". This lets numpy figure out the optimal number of rows. The second parameter, 1, establishes the number of columns. So we're telling numpy we want an ndarray with 1 column and as many rows as needed."
   ]
  },
  {
   "cell_type": "code",
   "execution_count": 6,
   "metadata": {},
   "outputs": [],
   "source": [
    "X_rooms = X_rooms.reshape(-1, 1)\n",
    "y = y.reshape(-1, 1)"
   ]
  },
  {
   "cell_type": "code",
   "execution_count": 7,
   "metadata": {},
   "outputs": [
    {
     "data": {
      "text/plain": [
       "((506, 1), (506, 1))"
      ]
     },
     "execution_count": 7,
     "metadata": {},
     "output_type": "execute_result"
    }
   ],
   "source": [
    "X_rooms.shape, y.shape"
   ]
  },
  {
   "cell_type": "code",
   "execution_count": 8,
   "metadata": {},
   "outputs": [
    {
     "data": {
      "image/png": "[encoded data removed]",
      "text/plain": [
       "<Figure size 432x288 with 1 Axes>"
      ]
     },
     "metadata": {
      "needs_background": "light"
     },
     "output_type": "display_data"
    }
   ],
   "source": [
    "plt.scatter(X_rooms, y)\n",
    "plt.ylabel('Value of house /1000 (USD)')\n",
    "plt.xlabel('Number of rooms')\n",
    "plt.show()"
   ]
  },
  {
   "cell_type": "markdown",
   "metadata": {},
   "source": [
    "I noticed something weird going on at the 50k line, as if values higher than 50k were cut to 50k. Indeed, a quick search returned that:\n",
    "\n",
    "> Gilley and Pace also point out that MEDV is censored, in that median values at or over USD 50,000 are set to USD 50,000. ([Source](https://nowosad.github.io/spData/reference/boston.html))\n",
    "\n",
    "So I learned that is what \"censored\" means in the context of data.\n",
    "\n",
    "### Regression mechanics\n",
    "\n",
    "How does linear regression actually work? We want to fit a line to the data, and a line in two dimentions is always of the form:\n",
    "\n",
    "`y = ax + b`\n",
    "\n",
    "where:\n",
    "\n",
    "y = target\n",
    "\n",
    "x = single feature\n",
    "\n",
    "a,b = parameters of model\n",
    "\n",
    "So the question of fitting is reduced to: \"How do we choose `a` and `b`?\"\n",
    "\n",
    "A common method is to define an **error function** for any given line and then to choose the line that minimizes the error function. Such an error function is also called a **loss function** or a **cost function**.\n",
    "\n",
    "What will our loss function be? Intuitively, we want the line to be as close to the actual data points as possible. For this reason, we wish to minimize the vertical distance between the fit and the data. So for each data point, we calculate the vertical distance between it and the line. This distance is called a residual. \n",
    "\n",
    "<img src='regression_residual.png'>\n",
    "\n",
    "We could try to minimize the **sum** of the residuals, but then a large positive residual would cancel out a large negative residual. For this reason, we minimize the **sum of the squares** of the residuals. This will be our loss function, which is commonly called **Ordinary Least Squares** or **OLS** for short.\n",
    "\n",
    "(Note that this is the same as minimizing the mean squared error (MSE) of the predictions on the training set).\n",
    "\n",
    "When you call the fit method on a linear regression model in scikit-learn, it performs this OLS under the hood.\n",
    "\n",
    "When we have two features and one target, a line is of the form:\n",
    "\n",
    "`y = a1x1 + a2x2 + b` \n",
    "\n",
    "so to fit a linear regression model is to specify three variables: `a1`, `a2` and `b`\n",
    "\n",
    "In higher dimensions, that is, when we have more than one or two feature, a line is of this form, \n",
    "\n",
    "\n",
    "`y = a1x1 + a2x2 + a3x3 + ... + anxn + b`\n",
    "\n",
    "so fitting a linear regression model is to specify a coeficcient ai for each feature, as well as the variable b.\n",
    "\n",
    "The scikit-learn API works exactly the same in this case. You pass the fit method two arrays: one containing the features, the other the target variable.\n",
    "\n",
    "\n",
    "\n",
    "## Applying linear regression"
   ]
  },
  {
   "cell_type": "code",
   "execution_count": 9,
   "metadata": {},
   "outputs": [],
   "source": [
    "# Instantiate\n",
    "reg = LinearRegression()\n",
    "\n",
    "# Fit\n",
    "reg.fit(X_rooms, y)\n",
    "\n",
    "# Check out the regressor's predictions over the range of the data\n",
    "prediction_space = np.linspace(min(X_rooms), max(X_rooms)).reshape(-1, 1)\n",
    "\n",
    "prediction = reg.predict(X_rooms)\n"
   ]
  },
  {
   "cell_type": "code",
   "execution_count": 10,
   "metadata": {},
   "outputs": [],
   "source": [
    "X_train, X_test, y_train, y_test = train_test_split(X, y, test_size = 0.3, random_state = 42)"
   ]
  },
  {
   "cell_type": "markdown",
   "metadata": {},
   "source": [
    "reg_all = LinearRegression()\n",
    "reg_all.fit(X_train, y_train)"
   ]
  },
  {
   "cell_type": "code",
   "execution_count": null,
   "metadata": {},
   "outputs": [],
   "source": []
  }
 ],
 "metadata": {
  "kernelspec": {
   "display_name": "Python 3",
   "language": "python",
   "name": "python3"
  },
  "language_info": {
   "codemirror_mode": {
    "name": "ipython",
    "version": 3
   },
   "file_extension": ".py",
   "mimetype": "text/x-python",
   "name": "python",
   "nbconvert_exporter": "python",
   "pygments_lexer": "ipython3",
   "version": "3.7.4"
  }
 },
 "nbformat": 4,
 "nbformat_minor": 2
}

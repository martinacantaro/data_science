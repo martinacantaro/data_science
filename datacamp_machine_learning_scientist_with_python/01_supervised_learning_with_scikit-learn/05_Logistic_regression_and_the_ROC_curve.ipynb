{
 "cells": [
  {
   "cell_type": "markdown",
   "metadata": {},
   "source": [
    "# Logistic Regression\n",
    "\n",
    "Sources: DataCamp, [StatQuest](https://www.youtube.com/watch?v=yIYKR4sgzI8)\n",
    "\n",
    "Despite its name, logistic regression is used in **classification** problems, not regression problems.\n",
    "We will see how logreg works with binary classification problems, that is, when we have two possible labels for the target variable.\n",
    "\n",
    "Given a feature, logreg will output a probability p, with respect to the target variable.\n",
    "\n",
    "If p is below a certain threshold, we consider the label to be 0, and above that threshold we consider it to be 1. Defining that threshold is our task.\n",
    "\n",
    "#### Differences with linear regression (StatQuest): \n",
    "1) With linear regression you can predict continuous variables (like weight), logistic regression returns the probability of a givenlabel (like \"obese\").\n",
    "\n",
    "2) Also, instead of fitting a line to the data, like linear regression, logistic regression fits an \"S\"-shaped logistic function.\n",
    "\n",
    "3) We can have simple models (e.g.: Obesity is predicted by Weight) or more complex models ( e.g.: Obesity is predicted by Weight,  Genotype and Age).\n",
    "\n",
    "We can calculate the influence that each predictor variable has on the target variable, but unlike linear regression, we can't easily compare a complex model to a simple model. \n",
    "\n",
    "Instead, we just test to see if a variable's effect on the prediction is significantly different from 0, with Wald's Test.\n",
    "\n",
    "One big difference between linreg and logreg is how the line is fit to the data. With linreg, we fit the line using least squares. In other words, we find the line that minimizes the sum of the squares of these residuals. We also use residuals to calculate R squared and to compare simple models to complicated models. \n",
    "\n",
    "Logreg doesn't have the same concept of a residual, so it can't use least squares and it can't calculate R squared. Instead, it uses something called \"maximum likelihood\". \n",
    "\n",
    "You pick a probability, scaled by weight, of observing an obese mouse, and you use that to calculate the likelihood of observing all of your datapoints. Lastly, you multiplu all of the likelihoods together. That's the likelihood of the data given this line. Then you shift the line and calculate a new likelihood of the data, then shift the line and calculate it again and again. Finally, the curve with the maximum value for the likelihood is selected. \n"
   ]
  },
  {
   "cell_type": "code",
   "execution_count": 13,
   "metadata": {},
   "outputs": [],
   "source": [
    "import pandas as pd\n",
    "import matplotlib.pyplot as plt\n",
    "\n",
    "from sklearn import datasets\n",
    "from sklearn.model_selection import train_test_split\n",
    "from sklearn.model_selection import cross_val_score\n",
    "from sklearn.linear_model import LogisticRegression\n",
    "from sklearn.metrics import roc_curve\n",
    "from sklearn.metrics import roc_auc_score\n"
   ]
  },
  {
   "cell_type": "code",
   "execution_count": 2,
   "metadata": {},
   "outputs": [
    {
     "data": {
      "text/plain": [
       "sklearn.utils.Bunch"
      ]
     },
     "execution_count": 2,
     "metadata": {},
     "output_type": "execute_result"
    }
   ],
   "source": [
    "data = datasets.load_breast_cancer()\n",
    "type(data)"
   ]
  },
  {
   "cell_type": "code",
   "execution_count": 3,
   "metadata": {},
   "outputs": [
    {
     "name": "stdout",
     "output_type": "stream",
     "text": [
      "dict_keys(['data', 'target', 'target_names', 'DESCR', 'feature_names', 'filename'])\n"
     ]
    }
   ],
   "source": [
    "print(data.keys())"
   ]
  },
  {
   "cell_type": "code",
   "execution_count": 4,
   "metadata": {},
   "outputs": [
    {
     "name": "stdout",
     "output_type": "stream",
     "text": [
      ".. _breast_cancer_dataset:\n",
      "\n",
      "Breast cancer wisconsin (diagnostic) dataset\n",
      "--------------------------------------------\n",
      "\n",
      "**Data Set Characteristics:**\n",
      "\n",
      "    :Number of Instances: 569\n",
      "\n",
      "    :Number of Attributes: 30 numeric, predictive attributes and the class\n",
      "\n",
      "    :Attribute Information:\n",
      "        - radius (mean of distances from center to points on the perimeter)\n",
      "        - texture (standard deviation of gray-scale values)\n",
      "        - perimeter\n",
      "        - area\n",
      "        - smoothness (local variation in radius lengths)\n",
      "        - compactness (perimeter^2 / area - 1.0)\n",
      "        - concavity (severity of concave portions of the contour)\n",
      "        - concave points (number of concave portions of the contour)\n",
      "        - symmetry \n",
      "        - fractal dimension (\"coastline approximation\" - 1)\n",
      "\n",
      "        The mean, standard error, and \"worst\" or largest (mean of the three\n",
      "        largest values) of these features were computed for each image,\n",
      "        resulting in 30 features.  For instance, field 3 is Mean Radius, field\n",
      "        13 is Radius SE, field 23 is Worst Radius.\n",
      "\n",
      "        - class:\n",
      "                - WDBC-Malignant\n",
      "                - WDBC-Benign\n",
      "\n",
      "    :Summary Statistics:\n",
      "\n",
      "    ===================================== ====== ======\n",
      "                                           Min    Max\n",
      "    ===================================== ====== ======\n",
      "    radius (mean):                        6.981  28.11\n",
      "    texture (mean):                       9.71   39.28\n",
      "    perimeter (mean):                     43.79  188.5\n",
      "    area (mean):                          143.5  2501.0\n",
      "    smoothness (mean):                    0.053  0.163\n",
      "    compactness (mean):                   0.019  0.345\n",
      "    concavity (mean):                     0.0    0.427\n",
      "    concave points (mean):                0.0    0.201\n",
      "    symmetry (mean):                      0.106  0.304\n",
      "    fractal dimension (mean):             0.05   0.097\n",
      "    radius (standard error):              0.112  2.873\n",
      "    texture (standard error):             0.36   4.885\n",
      "    perimeter (standard error):           0.757  21.98\n",
      "    area (standard error):                6.802  542.2\n",
      "    smoothness (standard error):          0.002  0.031\n",
      "    compactness (standard error):         0.002  0.135\n",
      "    concavity (standard error):           0.0    0.396\n",
      "    concave points (standard error):      0.0    0.053\n",
      "    symmetry (standard error):            0.008  0.079\n",
      "    fractal dimension (standard error):   0.001  0.03\n",
      "    radius (worst):                       7.93   36.04\n",
      "    texture (worst):                      12.02  49.54\n",
      "    perimeter (worst):                    50.41  251.2\n",
      "    area (worst):                         185.2  4254.0\n",
      "    smoothness (worst):                   0.071  0.223\n",
      "    compactness (worst):                  0.027  1.058\n",
      "    concavity (worst):                    0.0    1.252\n",
      "    concave points (worst):               0.0    0.291\n",
      "    symmetry (worst):                     0.156  0.664\n",
      "    fractal dimension (worst):            0.055  0.208\n",
      "    ===================================== ====== ======\n",
      "\n",
      "    :Missing Attribute Values: None\n",
      "\n",
      "    :Class Distribution: 212 - Malignant, 357 - Benign\n",
      "\n",
      "    :Creator:  Dr. William H. Wolberg, W. Nick Street, Olvi L. Mangasarian\n",
      "\n",
      "    :Donor: Nick Street\n",
      "\n",
      "    :Date: November, 1995\n",
      "\n",
      "This is a copy of UCI ML Breast Cancer Wisconsin (Diagnostic) datasets.\n",
      "https://goo.gl/U2Uwz2\n",
      "\n",
      "Features are computed from a digitized image of a fine needle\n",
      "aspirate (FNA) of a breast mass.  They describe\n",
      "characteristics of the cell nuclei present in the image.\n",
      "\n",
      "Separating plane described above was obtained using\n",
      "Multisurface Method-Tree (MSM-T) [K. P. Bennett, \"Decision Tree\n",
      "Construction Via Linear Programming.\" Proceedings of the 4th\n",
      "Midwest Artificial Intelligence and Cognitive Science Society,\n",
      "pp. 97-101, 1992], a classification method which uses linear\n",
      "programming to construct a decision tree.  Relevant features\n",
      "were selected using an exhaustive search in the space of 1-4\n",
      "features and 1-3 separating planes.\n",
      "\n",
      "The actual linear program used to obtain the separating plane\n",
      "in the 3-dimensional space is that described in:\n",
      "[K. P. Bennett and O. L. Mangasarian: \"Robust Linear\n",
      "Programming Discrimination of Two Linearly Inseparable Sets\",\n",
      "Optimization Methods and Software 1, 1992, 23-34].\n",
      "\n",
      "This database is also available through the UW CS ftp server:\n",
      "\n",
      "ftp ftp.cs.wisc.edu\n",
      "cd math-prog/cpo-dataset/machine-learn/WDBC/\n",
      "\n",
      ".. topic:: References\n",
      "\n",
      "   - W.N. Street, W.H. Wolberg and O.L. Mangasarian. Nuclear feature extraction \n",
      "     for breast tumor diagnosis. IS&T/SPIE 1993 International Symposium on \n",
      "     Electronic Imaging: Science and Technology, volume 1905, pages 861-870,\n",
      "     San Jose, CA, 1993.\n",
      "   - O.L. Mangasarian, W.N. Street and W.H. Wolberg. Breast cancer diagnosis and \n",
      "     prognosis via linear programming. Operations Research, 43(4), pages 570-577, \n",
      "     July-August 1995.\n",
      "   - W.H. Wolberg, W.N. Street, and O.L. Mangasarian. Machine learning techniques\n",
      "     to diagnose breast cancer from fine-needle aspirates. Cancer Letters 77 (1994) \n",
      "     163-171.\n"
     ]
    }
   ],
   "source": [
    "print(data['DESCR'])"
   ]
  },
  {
   "cell_type": "code",
   "execution_count": 5,
   "metadata": {},
   "outputs": [],
   "source": [
    "X = data.data\n",
    "y = data.target"
   ]
  },
  {
   "cell_type": "code",
   "execution_count": 6,
   "metadata": {},
   "outputs": [],
   "source": [
    "X_train, X_test, y_train, y_test = train_test_split(X, y, test_size=0.3, random_state=33)"
   ]
  },
  {
   "cell_type": "code",
   "execution_count": 7,
   "metadata": {},
   "outputs": [],
   "source": [
    "logreg = LogisticRegression(solver='liblinear')\n",
    "\n",
    "logreg.fit(X_train, y_train)\n",
    "\n",
    "y_pred = logreg.predict(X_test)"
   ]
  },
  {
   "cell_type": "code",
   "execution_count": 8,
   "metadata": {},
   "outputs": [
    {
     "name": "stdout",
     "output_type": "stream",
     "text": [
      "[0 1 1 1 1 1 1 1 1 1 1 0 1 1 1 0 1 1 1 1 0 1 1 1 0 0 0 1 0 1 1 1 0 1 1 0 0\n",
      " 1 1 1 1 1 1 1 1 1 1 1 1 1 1 0 1 1 1 1 1 0 1 1 0 0 1 0 1 1 1 1 1 0 1 1 1 0\n",
      " 0 0 0 0 0 1 0 1 1 0 1 0 1 0 0 1 1 0 0 1 0 0 1 0 1 1 0 1 1 1 1 0 1 0 1 0 1\n",
      " 0 1 0 1 1 0 1 0 0 1 0 1 1 0 0 1 1 0 1 1 1 1 1 1 0 1 0 1 1 1 0 0 0 0 1 1 0\n",
      " 0 1 0 1 1 0 1 1 0 1 0 1 1 0 1 1 1 0 0 0 1 1 0]\n"
     ]
    }
   ],
   "source": [
    "print(y_pred)"
   ]
  },
  {
   "cell_type": "code",
   "execution_count": 9,
   "metadata": {},
   "outputs": [
    {
     "data": {
      "image/png": "[encoded data removed]",
      "text/plain": [
       "<Figure size 432x288 with 1 Axes>"
      ]
     },
     "metadata": {
      "needs_background": "light"
     },
     "output_type": "display_data"
    }
   ],
   "source": [
    "# Now we plot our ROC curve\n",
    "\n",
    "y_pred_prob = logreg.predict_proba(X_test)[:,1]\n",
    "\n",
    "fpr, tpr, thresholds = roc_curve(y_test, y_pred_prob)\n",
    "\n",
    "# And we plot it\n",
    "\n",
    "plt.plot([0, 1], [0, 1], 'k--') # this creates a 45-degree dashed line\n",
    "plt.plot(fpr, tpr, label = 'Logistic Regression')\n",
    "plt.xlabel('False Positive Rate')\n",
    "plt.ylabel('True Positive Rate')\n",
    "plt.title('Logistic Regression ROC Curve')\n",
    "plt.show()"
   ]
  },
  {
   "cell_type": "markdown",
   "metadata": {},
   "source": [
    "We used the predicted probabilities of the model assigning a value of 1 to the observation in question. This is because to compute the ROC we do not merely want the predictions on the test set, but we want the probability that our logreg model outputs before using a threshold to predict the label.\n",
    "\n",
    "To do this, we use the method predict_proba to the model and pass it the test data. predict_proba returns an array with two columns: each column contains the probabilities for the respective target values (0 or 1, negative or positive). We choose the second column, the one with index 1, that is, the probabilities of predicted labels being '1' (positive).\n",
    "\n",
    "I was curious about this."
   ]
  },
  {
   "cell_type": "code",
   "execution_count": 10,
   "metadata": {},
   "outputs": [
    {
     "name": "stdout",
     "output_type": "stream",
     "text": [
      "[[9.99771230e-01 2.28769585e-04]\n",
      " [9.03697261e-03 9.90963027e-01]\n",
      " [5.08966708e-03 9.94910333e-01]\n",
      " [5.43195725e-02 9.45680427e-01]\n",
      " [2.37796120e-01 7.62203880e-01]\n",
      " [1.54806054e-01 8.45193946e-01]\n",
      " [4.50703278e-04 9.99549297e-01]\n",
      " [5.22505588e-04 9.99477494e-01]\n",
      " [4.58796346e-03 9.95412037e-01]\n",
      " [5.10327016e-03 9.94896730e-01]\n",
      " [1.87848376e-03 9.98121516e-01]\n",
      " [9.95316046e-01 4.68395420e-03]\n",
      " [2.84708710e-04 9.99715291e-01]\n",
      " [4.88068465e-01 5.11931535e-01]\n",
      " [1.16717413e-02 9.88328259e-01]\n",
      " [9.88588445e-01 1.14115548e-02]\n",
      " [5.36830553e-02 9.46316945e-01]\n",
      " [7.24056652e-03 9.92759433e-01]\n",
      " [9.25293927e-03 9.90747061e-01]\n",
      " [8.04639603e-02 9.19536040e-01]\n",
      " [7.95227999e-01 2.04772001e-01]\n",
      " [3.54591748e-04 9.99645408e-01]\n",
      " [7.93262631e-04 9.99206737e-01]\n",
      " [1.51528868e-02 9.84847113e-01]\n",
      " [9.99999999e-01 8.99554889e-10]\n",
      " [9.99998885e-01 1.11484309e-06]\n",
      " [9.99617540e-01 3.82459770e-04]\n",
      " [1.34069328e-01 8.65930672e-01]\n",
      " [9.66398199e-01 3.36018011e-02]\n",
      " [2.25266243e-03 9.97747338e-01]\n",
      " [4.41133933e-01 5.58866067e-01]\n",
      " [1.55671252e-03 9.98443287e-01]\n",
      " [6.35819741e-01 3.64180259e-01]\n",
      " [3.28154776e-02 9.67184522e-01]\n",
      " [1.20500972e-03 9.98794990e-01]\n",
      " [9.92426186e-01 7.57381374e-03]\n",
      " [9.99999997e-01 3.10833964e-09]\n",
      " [2.64082112e-03 9.97359179e-01]\n",
      " [1.90932566e-02 9.80906743e-01]\n",
      " [5.24858254e-03 9.94751417e-01]\n",
      " [3.36572593e-01 6.63427407e-01]\n",
      " [4.55640106e-04 9.99544360e-01]\n",
      " [2.71138768e-03 9.97288612e-01]\n",
      " [1.88757005e-02 9.81124300e-01]\n",
      " [3.29058048e-03 9.96709420e-01]\n",
      " [4.20732301e-02 9.57926770e-01]\n",
      " [1.11181467e-01 8.88818533e-01]\n",
      " [1.35356661e-01 8.64643339e-01]\n",
      " [1.52412175e-02 9.84758783e-01]\n",
      " [5.25088663e-03 9.94749113e-01]\n",
      " [3.46396782e-03 9.96536032e-01]\n",
      " [9.99971924e-01 2.80761168e-05]\n",
      " [1.09978342e-03 9.98900217e-01]\n",
      " [7.45389647e-02 9.25461035e-01]\n",
      " [1.36429261e-02 9.86357074e-01]\n",
      " [5.74185228e-03 9.94258148e-01]\n",
      " [1.19803496e-02 9.88019650e-01]\n",
      " [1.00000000e+00 1.68964476e-19]\n",
      " [2.14238394e-03 9.97857616e-01]\n",
      " [3.02565079e-04 9.99697435e-01]\n",
      " [9.99999482e-01 5.18216351e-07]\n",
      " [7.26862685e-01 2.73137315e-01]\n",
      " [2.00948940e-02 9.79905106e-01]\n",
      " [1.00000000e+00 8.36315690e-11]\n",
      " [3.50244948e-02 9.64975505e-01]\n",
      " [2.05233129e-03 9.97947669e-01]\n",
      " [2.11968121e-02 9.78803188e-01]\n",
      " [9.89087680e-02 9.01091232e-01]\n",
      " [4.30006781e-03 9.95699932e-01]\n",
      " [9.99999899e-01 1.00533225e-07]\n",
      " [1.01129823e-03 9.98988702e-01]\n",
      " [1.49739618e-03 9.98502604e-01]\n",
      " [5.78615058e-03 9.94213849e-01]\n",
      " [1.00000000e+00 3.83052330e-10]\n",
      " [9.99959269e-01 4.07314443e-05]\n",
      " [8.68916032e-01 1.31083968e-01]\n",
      " [9.99999991e-01 9.42265313e-09]\n",
      " [9.67796566e-01 3.22034343e-02]\n",
      " [9.99999997e-01 2.59126654e-09]\n",
      " [3.94818217e-04 9.99605182e-01]\n",
      " [9.99422071e-01 5.77928572e-04]\n",
      " [1.56925476e-02 9.84307452e-01]\n",
      " [6.08017024e-02 9.39198298e-01]\n",
      " [9.69536501e-01 3.04634991e-02]\n",
      " [3.58521462e-03 9.96414785e-01]\n",
      " [9.99933220e-01 6.67803674e-05]\n",
      " [2.77789159e-01 7.22210841e-01]\n",
      " [9.96540288e-01 3.45971220e-03]\n",
      " [8.60378844e-01 1.39621156e-01]\n",
      " [4.99629006e-03 9.95003710e-01]\n",
      " [1.41709710e-02 9.85829029e-01]\n",
      " [9.99990489e-01 9.51074277e-06]\n",
      " [9.97130538e-01 2.86946205e-03]\n",
      " [8.79843472e-03 9.91201565e-01]\n",
      " [9.80493888e-01 1.95061120e-02]\n",
      " [8.85101389e-01 1.14898611e-01]\n",
      " [4.34055986e-02 9.56594401e-01]\n",
      " [9.99999997e-01 3.03322350e-09]\n",
      " [8.07862992e-02 9.19213701e-01]\n",
      " [2.50626982e-03 9.97493730e-01]\n",
      " [9.22639813e-01 7.73601871e-02]\n",
      " [7.50426618e-04 9.99249573e-01]\n",
      " [5.80307378e-03 9.94196926e-01]\n",
      " [9.96052102e-05 9.99900395e-01]\n",
      " [1.00370047e-02 9.89962995e-01]\n",
      " [1.00000000e+00 6.25507044e-18]\n",
      " [1.07526154e-02 9.89247385e-01]\n",
      " [9.99724292e-01 2.75708489e-04]\n",
      " [1.90319400e-01 8.09680600e-01]\n",
      " [1.00000000e+00 1.69265332e-13]\n",
      " [4.30806234e-02 9.56919377e-01]\n",
      " [9.99999999e-01 6.03732864e-10]\n",
      " [1.58231613e-02 9.84176839e-01]\n",
      " [9.99958828e-01 4.11717139e-05]\n",
      " [1.06441934e-01 8.93558066e-01]\n",
      " [7.03945025e-02 9.29605498e-01]\n",
      " [1.00000000e+00 2.20678715e-10]\n",
      " [5.82700570e-03 9.94172994e-01]\n",
      " [9.87080953e-01 1.29190472e-02]\n",
      " [9.99997996e-01 2.00429777e-06]\n",
      " [4.52718978e-03 9.95472810e-01]\n",
      " [9.98364153e-01 1.63584713e-03]\n",
      " [5.60108640e-03 9.94398914e-01]\n",
      " [2.32794636e-02 9.76720536e-01]\n",
      " [8.02063901e-01 1.97936099e-01]\n",
      " [8.74164354e-01 1.25835646e-01]\n",
      " [5.50844174e-03 9.94491558e-01]\n",
      " [4.13999243e-03 9.95860008e-01]\n",
      " [1.00000000e+00 1.38442644e-15]\n",
      " [2.90786283e-03 9.97092137e-01]\n",
      " [7.27466897e-03 9.92725331e-01]\n",
      " [8.81257599e-03 9.91187424e-01]\n",
      " [2.16638762e-03 9.97833612e-01]\n",
      " [7.40591334e-03 9.92594087e-01]\n",
      " [1.66638269e-01 8.33361731e-01]\n",
      " [9.99999976e-01 2.40484914e-08]\n",
      " [1.60954435e-02 9.83904556e-01]\n",
      " [9.99417253e-01 5.82746700e-04]\n",
      " [6.21010939e-03 9.93789891e-01]\n",
      " [1.00867761e-03 9.98991322e-01]\n",
      " [2.49003103e-02 9.75099690e-01]\n",
      " [9.99999990e-01 1.00754275e-08]\n",
      " [1.00000000e+00 1.31199624e-11]\n",
      " [9.99999525e-01 4.75314162e-07]\n",
      " [9.13675571e-01 8.63244292e-02]\n",
      " [9.94306972e-04 9.99005693e-01]\n",
      " [2.61623365e-02 9.73837664e-01]\n",
      " [9.79305532e-01 2.06944684e-02]\n",
      " [8.48780601e-01 1.51219399e-01]\n",
      " [9.47761840e-04 9.99052238e-01]\n",
      " [9.99695763e-01 3.04236790e-04]\n",
      " [9.89811634e-04 9.99010188e-01]\n",
      " [4.30321925e-02 9.56967807e-01]\n",
      " [9.99981912e-01 1.80880403e-05]\n",
      " [9.01314129e-03 9.90986859e-01]\n",
      " [1.34505423e-03 9.98654946e-01]\n",
      " [9.99997429e-01 2.57141684e-06]\n",
      " [3.89462706e-01 6.10537294e-01]\n",
      " [7.84088860e-01 2.15911140e-01]\n",
      " [2.67993851e-03 9.97320061e-01]\n",
      " [6.47423591e-02 9.35257641e-01]\n",
      " [9.99975550e-01 2.44497290e-05]\n",
      " [3.09007047e-03 9.96909930e-01]\n",
      " [7.47571769e-04 9.99252428e-01]\n",
      " [6.30357334e-02 9.36964267e-01]\n",
      " [8.32844687e-01 1.67155313e-01]\n",
      " [9.99928501e-01 7.14993196e-05]\n",
      " [9.99993670e-01 6.33004722e-06]\n",
      " [4.43884534e-03 9.95561155e-01]\n",
      " [1.76138382e-01 8.23861618e-01]\n",
      " [9.97228328e-01 2.77167173e-03]]\n",
      "[1. 1. 1. 1. 1. 1. 1. 1. 1. 1. 1. 1. 1. 1. 1. 1. 1. 1. 1. 1. 1. 1. 1. 1.\n",
      " 1. 1. 1. 1. 1. 1. 1. 1. 1. 1. 1. 1. 1. 1. 1. 1. 1. 1. 1. 1. 1. 1. 1. 1.\n",
      " 1. 1. 1. 1. 1. 1. 1. 1. 1. 1. 1. 1. 1. 1. 1. 1. 1. 1. 1. 1. 1. 1. 1. 1.\n",
      " 1. 1. 1. 1. 1. 1. 1. 1. 1. 1. 1. 1. 1. 1. 1. 1. 1. 1. 1. 1. 1. 1. 1. 1.\n",
      " 1. 1. 1. 1. 1. 1. 1. 1. 1. 1. 1. 1. 1. 1. 1. 1. 1. 1. 1. 1. 1. 1. 1. 1.\n",
      " 1. 1. 1. 1. 1. 1. 1. 1. 1. 1. 1. 1. 1. 1. 1. 1. 1. 1. 1. 1. 1. 1. 1. 1.\n",
      " 1. 1. 1. 1. 1. 1. 1. 1. 1. 1. 1. 1. 1. 1. 1. 1. 1. 1. 1. 1. 1. 1. 1. 1.\n",
      " 1. 1. 1.]\n"
     ]
    }
   ],
   "source": [
    "see_two_cols_pred_proba = logreg.predict_proba(X_test)\n",
    "print(see_two_cols_pred_proba)\n",
    "\n",
    "sum_cols = see_two_cols_pred_proba[:,0] + see_two_cols_pred_proba[:,1]\n",
    "\n",
    "print(sum_cols)"
   ]
  },
  {
   "cell_type": "markdown",
   "metadata": {},
   "source": [
    "As expected, the sum of the probabilities for '0' and '1' equals 1.\n",
    "\n",
    "We compute the area under the curve"
   ]
  },
  {
   "cell_type": "code",
   "execution_count": 11,
   "metadata": {},
   "outputs": [
    {
     "name": "stdout",
     "output_type": "stream",
     "text": [
      "0.9802308802308802\n"
     ]
    }
   ],
   "source": [
    "auc = roc_auc_score(y_test, y_pred_prob)\n",
    "\n",
    "print(auc)"
   ]
  },
  {
   "cell_type": "markdown",
   "metadata": {},
   "source": [
    "## AUC using cross-validation\n",
    "\n"
   ]
  },
  {
   "cell_type": "code",
   "execution_count": 15,
   "metadata": {},
   "outputs": [
    {
     "name": "stdout",
     "output_type": "stream",
     "text": [
      "[0.99418605 0.99192506 0.99698189 0.98289738 0.99664655]\n"
     ]
    }
   ],
   "source": [
    "cv_scores = cross_val_score(logreg, X, y, cv=5, scoring='roc_auc')\n",
    "\n",
    "print(cv_scores)"
   ]
  },
  {
   "cell_type": "markdown",
   "metadata": {},
   "source": [
    "Say you have a binary classifier that in fact is just randomly making guesses. It would be correct approximately 50% of the time, and the resulting ROC curve would be a diagonal line in which the True Positive Rate and False Positive Rate are always equal. The Area under this ROC curve would be 0.5. This is one way in which the AUC is an informative metric to evaluate a model. If the AUC is significatively greater than 0.5, the model is better than random guessing."
   ]
  },
  {
   "cell_type": "code",
   "execution_count": null,
   "metadata": {},
   "outputs": [],
   "source": []
  }
 ],
 "metadata": {
  "kernelspec": {
   "display_name": "Python 3",
   "language": "python",
   "name": "python3"
  },
  "language_info": {
   "codemirror_mode": {
    "name": "ipython",
    "version": 3
   },
   "file_extension": ".py",
   "mimetype": "text/x-python",
   "name": "python",
   "nbconvert_exporter": "python",
   "pygments_lexer": "ipython3",
   "version": "3.7.4"
  }
 },
 "nbformat": 4,
 "nbformat_minor": 2
}
